{
  "nbformat": 4,
  "nbformat_minor": 0,
  "metadata": {
    "colab": {
      "provenance": []
    },
    "kernelspec": {
      "name": "python3",
      "display_name": "Python 3"
    },
    "language_info": {
      "name": "python"
    }
  },
  "cells": [
    {
      "cell_type": "markdown",
      "source": [
        "**PW Skills  Assignment- Files,exceptional handling,logging and memory managment Questions**\n",
        "\n",
        "**Name-Ekta Patel**\n",
        "\n",
        "**Course:Data Science with Generative AI**\n",
        "\n",
        "**Submitted to:PW Skills**\n",
        "\n",
        "**Date:/10/2025**"
      ],
      "metadata": {
        "id": "O8ASL62IEY3X"
      }
    },
    {
      "cell_type": "markdown",
      "source": [
        "**Q1.What is the difference between interpreted and compiled languages?**\n",
        "\n",
        "**Ans:**\n",
        "\n",
        "*   Interpreted languages exeute code line-by-line (e.g.,Python).\n",
        "*   Compiled languages translate the entire code into machine code before running(e.g.,C,C++).\n",
        "\n"
      ],
      "metadata": {
        "id": "RQ32gVE7Fv-F"
      }
    },
    {
      "cell_type": "markdown",
      "source": [
        "**Q2. What is a file?**\n",
        "\n",
        "**Ans:** A file is a container used to store data permanently on a storage device (like text,images,or code)."
      ],
      "metadata": {
        "id": "pSGlWx7rKDWZ"
      }
    },
    {
      "cell_type": "markdown",
      "source": [
        "**Q3. What is file handling?**\n",
        "\n",
        "**Ans:** File handling allows programs to create,read,write,and delete files on a system."
      ],
      "metadata": {
        "id": "c3bEUnNrKfVG"
      }
    },
    {
      "cell_type": "markdown",
      "source": [
        "**Q4. What is the purpose of the \"with\" statement in file handling?**\n",
        "\n",
        "**Ans:** The with statement is used to open a file safely.It automatically closes the file after the block of code is executed,even if an error occurs.\n",
        "\n",
        "It makes the code cleaner and less error-prone."
      ],
      "metadata": {
        "id": "5PXDVaY9K0oy"
      }
    },
    {
      "cell_type": "code",
      "source": [
        "with open(\"example.txt\",\"w\")as file:\n",
        "  file.write(\"Hello,Python Learner!\")\n",
        "\n",
        "with open(\"example.txt\",\"r\")as file:\n",
        "  content=file.read()\n",
        "  print(content)"
      ],
      "metadata": {
        "colab": {
          "base_uri": "https://localhost:8080/"
        },
        "id": "p8Nfb13OHfS8",
        "outputId": "4136d280-e20d-4bb1-ba98-b950fd028507"
      },
      "execution_count": null,
      "outputs": [
        {
          "output_type": "stream",
          "name": "stdout",
          "text": [
            "Hello,Python Learner!\n"
          ]
        }
      ]
    },
    {
      "cell_type": "markdown",
      "source": [
        "**Q5. What is an exception?**\n",
        "\n",
        "**Ans:** An excetion is an error that occurs during program execution,which disrupts the normal flow of instructions.\n"
      ],
      "metadata": {
        "id": "-mMlwemX7UVB"
      }
    },
    {
      "cell_type": "markdown",
      "source": [
        "**Q6. What is exception handling?**\n",
        "\n",
        "**Ans:** It is the process of catching and handling runtime errors using try,except,else,and finally blocks to prevent program crashes."
      ],
      "metadata": {
        "id": "zLz8LBx57rcO"
      }
    },
    {
      "cell_type": "markdown",
      "source": [
        "**Q7. Whta is the purpose of the try- except block in exception handling?**\n",
        "\n",
        "**Ans:** It helps to handle errors gracefully-the code inside try is executed,and if an error occurs,the except block runs instead of stopping the program."
      ],
      "metadata": {
        "id": "PSpdDbHl8IkX"
      }
    },
    {
      "cell_type": "markdown",
      "source": [
        "**Q8. What is the finally block in exception handling?**\n",
        "\n",
        "**Ans:** Finally block runs no matter what happens- whether an exception occurs or not.It's often used to close files or release resources."
      ],
      "metadata": {
        "id": "jBWZwvGL8uiO"
      }
    },
    {
      "cell_type": "markdown",
      "source": [
        "**Q9. What is logging?**\n",
        "\n",
        "**Ans:** Logging means recording messages or events that happen during program execution(like errors,warnings,or info) for debugging and tracking."
      ],
      "metadata": {
        "id": "l41KBrXd9Nb5"
      }
    },
    {
      "cell_type": "markdown",
      "source": [
        "**Q10. What is the purpose of logging in a program?**\n",
        "\n",
        "**Ans:** Logging helps developers track the flow of execution and identify issues or errors without stopping the program."
      ],
      "metadata": {
        "id": "1UeSAmer9qJ-"
      }
    },
    {
      "cell_type": "markdown",
      "source": [
        "**Q11. What are logging levels in Python?**\n",
        "\n",
        "**Ans:** There are 5 main levels:\n",
        "\n",
        "*   DEBUG\n",
        "*   INFO\n",
        "\n",
        "*   WARNING\n",
        "*   ERROR\n",
        "\n",
        "*   CRITICAL\n",
        "\n",
        "\n",
        "\n",
        "\n",
        "\n",
        "\n"
      ],
      "metadata": {
        "id": "xJLkKPKv-HYT"
      }
    },
    {
      "cell_type": "markdown",
      "source": [
        "**Q12. How do you configure logging in Python?**\n",
        "\n",
        "**Ans:** Using the logging module:"
      ],
      "metadata": {
        "id": "PXCMd2HZ-hop"
      }
    },
    {
      "cell_type": "code",
      "source": [
        "import logging\n",
        "logging.basicConfig(level=logging.INFO)\n",
        "logging.info(\"Program started\")"
      ],
      "metadata": {
        "id": "8oeStMNn-2A_"
      },
      "execution_count": null,
      "outputs": []
    },
    {
      "cell_type": "markdown",
      "source": [
        "**Q13.What is memory managment in Python?**\n",
        "\n",
        "**Ans:** It is the process of allocating and releasing memory automatically using Python's built-in memory manager and garbage collector."
      ],
      "metadata": {
        "id": "qHrQk7xq_M0L"
      }
    },
    {
      "cell_type": "markdown",
      "source": [
        "**Q14. What is garbage collection in Python?**\n",
        "\n",
        "**Ans:** Garbage collection automatically removes unused objects from memory to free up space."
      ],
      "metadata": {
        "id": "nA3z4pSI_nwK"
      }
    },
    {
      "cell_type": "markdown",
      "source": [
        "**Q15.Why is memory management important in Python?**\n",
        "\n",
        "**Ans:** It prevents memory leaks and ensures efficient use of system resources."
      ],
      "metadata": {
        "id": "vLb_oAs8_4Z7"
      }
    },
    {
      "cell_type": "markdown",
      "source": [
        "**Q16. What is reference counting in Python?**\n",
        "\n",
        "**Ans:** Each object keeps a count of how many references point to it.\n",
        "\n",
        "   When the count reaches zero, Python automatically deletes the objects."
      ],
      "metadata": {
        "id": "k_ZkFLlUAW-J"
      }
    },
    {
      "cell_type": "markdown",
      "source": [
        "**Q17. What is the role of the__del__() method in Python?**\n",
        "\n",
        "**Ans:** It is a destructor meethod called when an objects is deleted,used to clean up resources.\n",
        "\n",
        "\n",
        "\n"
      ],
      "metadata": {
        "id": "le9iWWY9A-VR"
      }
    },
    {
      "cell_type": "markdown",
      "source": [
        "**Q19.What are the benefits of using multithreading in Python?**\n",
        "\n",
        "**Ans:** It allows concurrent execution of tasks,improving performance in I/O-bound programs."
      ],
      "metadata": {
        "id": "DFEgWDkzCFJQ"
      }
    },
    {
      "cell_type": "markdown",
      "source": [
        "**Q20. What is a deadlock in threading?**\n",
        "\n",
        "**Ans:** A deadlock occurs when two or more threads wait for each other's resources,causing the program to freeze."
      ],
      "metadata": {
        "id": "r5NfXfNKC8DH"
      }
    },
    {
      "cell_type": "markdown",
      "source": [
        "**Q21. What is an illegal memory access error?**\n",
        "\n",
        "**Ans:** It occurs when a program tries to access memory that it doesn't own,leading to a crash."
      ],
      "metadata": {
        "id": "YRhN3mSNDRwW"
      }
    },
    {
      "cell_type": "markdown",
      "source": [
        "**Q22. What is a memory leak?**\n",
        "\n",
        "**Ans:** A memory leak happens when memory is allocated but not released after use."
      ],
      "metadata": {
        "id": "0yCY5FzGDs_i"
      }
    },
    {
      "cell_type": "markdown",
      "source": [
        "**Q23. How do you handle memory leaks is Python?**\n",
        "\n",
        "**Ans:By:**\n",
        "\n",
        "*   Deleting unused objects\n",
        "*   Using gc.collect()\n",
        "\n",
        "*   Avoiding circular references\n",
        "\n",
        "\n",
        "\n",
        "\n"
      ],
      "metadata": {
        "id": "aZ10qc38D-Oj"
      }
    },
    {
      "cell_type": "markdown",
      "source": [
        "**Q24. What is the role of the garbage collector in Python memory mamangement?**\n",
        "\n",
        "**Ans:** It automatically detects and removes unused objects from memory."
      ],
      "metadata": {
        "id": "ggteg9qCEnFg"
      }
    },
    {
      "cell_type": "markdown",
      "source": [
        "**Q25. Why is it important to manage memory efficiently in certain applications?**\n",
        "\n",
        "**Ans: Efficient memory managemnt ensures:**\n",
        "\n",
        "*   Better performance\n",
        "*   Reduced crashes\n",
        "\n",
        "*   Optimal use of system resources\n",
        "\n",
        "\n",
        "\n",
        "\n"
      ],
      "metadata": {
        "id": "z5mIxoGKFEfF"
      }
    },
    {
      "cell_type": "markdown",
      "source": [
        "**PRACTICAL QUESTIONS**"
      ],
      "metadata": {
        "id": "VnPMeGH_QGGh"
      }
    },
    {
      "cell_type": "markdown",
      "source": [
        "**Q1.How can you open a file for writing in Python and write a string to it?**\n"
      ],
      "metadata": {
        "id": "zYcue836QYn-"
      }
    },
    {
      "cell_type": "code",
      "source": [
        "with open(\"sample.txt\",\"w\")as f:\n",
        "  f.write(\"Hello Python!\")"
      ],
      "metadata": {
        "id": "IZYwYkMkaHwc"
      },
      "execution_count": null,
      "outputs": []
    },
    {
      "cell_type": "markdown",
      "source": [
        "**Q2. Write a Python program to read contents of a file and print each line.**"
      ],
      "metadata": {
        "id": "cAajdFe5aZna"
      }
    },
    {
      "cell_type": "code",
      "source": [
        "with open(\"sample.txt\",\"r\")as f:\n",
        "  for line in f:\n",
        "    print(line.strip())"
      ],
      "metadata": {
        "colab": {
          "base_uri": "https://localhost:8080/"
        },
        "id": "ewYhrQjCarbQ",
        "outputId": "0f3c309f-7142-4424-a588-295c26ce7648"
      },
      "execution_count": null,
      "outputs": [
        {
          "output_type": "stream",
          "name": "stdout",
          "text": [
            "Hello Python!\n"
          ]
        }
      ]
    },
    {
      "cell_type": "markdown",
      "source": [
        "**Q3.How would you handle the case where the file doesn't exist while trying to open it for reading?**"
      ],
      "metadata": {
        "id": "Ed8kKOmzbE3c"
      }
    },
    {
      "cell_type": "code",
      "source": [
        "# Handling missing file error in Python\n",
        "\n",
        "filename = 'data.txt'\n",
        "\n",
        "try:\n",
        "    with open(filename, 'r') as file:\n",
        "        content = file.read()\n",
        "        print(\"File content:\")\n",
        "        print(content)\n",
        "except FileNotFoundError:\n",
        "    print(f\"Error: The file '{filename}' does not exist.\")\n"
      ],
      "metadata": {
        "colab": {
          "base_uri": "https://localhost:8080/"
        },
        "id": "Scgi0yVxE0WH",
        "outputId": "0eaa4e2b-3a76-45a7-89c2-6237c0f70864"
      },
      "execution_count": null,
      "outputs": [
        {
          "output_type": "stream",
          "name": "stdout",
          "text": [
            "Error: The file 'data.txt' does not exist.\n"
          ]
        }
      ]
    },
    {
      "cell_type": "markdown",
      "source": [
        "**Q4. Write a Python script that reads data from one file and writes content to another file.**"
      ],
      "metadata": {
        "id": "G18O2fXZdeSM"
      }
    },
    {
      "cell_type": "code",
      "source": [
        "# Python script to read data from one file and write to another\n",
        "\n",
        "def copy_file(source_path, destination_path):\n",
        "    try:\n",
        "        with open(source_path, 'r') as source_file:\n",
        "            content = source_file.read()\n",
        "\n",
        "        with open(destination_path, 'w') as destination_file:\n",
        "            destination_file.write(content)\n",
        "\n",
        "        print(\"File copied successfully.\")\n",
        "\n",
        "    except FileNotFoundError:\n",
        "        print(f\"Error: The file '{source_path}' was not found.\")\n",
        "    except IOError as e:\n",
        "        print(f\"I/O error occurred: {e}\")\n",
        "\n",
        "# Example usage\n",
        "copy_file('input.txt', 'output.txt')\n"
      ],
      "metadata": {
        "colab": {
          "base_uri": "https://localhost:8080/"
        },
        "id": "FTDZ3Zb2EpzJ",
        "outputId": "f0c07027-f9e5-4e70-ebeb-a242474bbcad"
      },
      "execution_count": null,
      "outputs": [
        {
          "output_type": "stream",
          "name": "stdout",
          "text": [
            "Error: The file 'input.txt' was not found.\n"
          ]
        }
      ]
    },
    {
      "cell_type": "markdown",
      "source": [
        "**Q5. How do you log an error message to a log file when a division by zero exception occurs?**"
      ],
      "metadata": {
        "id": "_35h1mBvelOu"
      }
    },
    {
      "cell_type": "code",
      "source": [
        "import logging\n",
        "\n",
        "# Configure logging to write to a file\n",
        "logging.basicConfig(\n",
        "    filename='error_log.txt',\n",
        "    level=logging.ERROR,\n",
        "    format='%(asctime)s - %(levelname)s - %(message)s'\n",
        ")\n",
        "\n",
        "def divide(a, b):\n",
        "    try:\n",
        "        return a / b\n",
        "    except ZeroDivisionError as e:\n",
        "        logging.error(\"Division by zero attempted: a=%s, b=%s\", a, b)\n",
        "        print(\"Error: Cannot divide by zero.\")\n",
        "\n",
        "# Example usage\n",
        "divide(10, 0)\n"
      ],
      "metadata": {
        "colab": {
          "base_uri": "https://localhost:8080/"
        },
        "id": "7h2G7GFuEeb5",
        "outputId": "6807f64e-b093-419b-ac2b-26915a39d208"
      },
      "execution_count": null,
      "outputs": [
        {
          "output_type": "stream",
          "name": "stderr",
          "text": [
            "ERROR:root:Division by zero attempted: a=10, b=0\n"
          ]
        },
        {
          "output_type": "stream",
          "name": "stdout",
          "text": [
            "Error: Cannot divide by zero.\n"
          ]
        }
      ]
    },
    {
      "cell_type": "markdown",
      "source": [
        "**Q6.How do you log message at different levels(INFO,ERROR,WARNING) in Python using the logging module?**"
      ],
      "metadata": {
        "id": "d-8hn7bif0bA"
      }
    },
    {
      "cell_type": "code",
      "source": [
        "import logging\n",
        "logging.basicConfig(level=logging.INFO)\n",
        "\n",
        "logging.info(\"Program started\")\n",
        "logging.warning(\"Low disk space\")\n",
        "logging.error(\"File not found\")"
      ],
      "metadata": {
        "colab": {
          "base_uri": "https://localhost:8080/"
        },
        "id": "3n1XI9LNgNYU",
        "outputId": "ea371040-2eec-4f71-d536-195dccba6586"
      },
      "execution_count": null,
      "outputs": [
        {
          "output_type": "stream",
          "name": "stderr",
          "text": [
            "WARNING:root:Low disk space\n",
            "ERROR:root:File not found\n"
          ]
        }
      ]
    },
    {
      "cell_type": "markdown",
      "source": [
        "**Q7.Write a Python program using try-except block to handle an error when attempting to access a list index out of range.**"
      ],
      "metadata": {
        "id": "lU8q9CdYgtkv"
      }
    },
    {
      "cell_type": "code",
      "source": [
        "try:\n",
        "  lst=[10,20,30]\n",
        "  print(lst[5])\n",
        "except IndexError:\n",
        "  print(\"Index out of range!\")"
      ],
      "metadata": {
        "colab": {
          "base_uri": "https://localhost:8080/"
        },
        "id": "40Xwg5FVhCxI",
        "outputId": "9d550de8-52c3-4ac3-c314-b60c02cbdc74"
      },
      "execution_count": null,
      "outputs": [
        {
          "output_type": "stream",
          "name": "stdout",
          "text": [
            "Index out of range!\n"
          ]
        }
      ]
    },
    {
      "cell_type": "markdown",
      "source": [
        "**Q8.Write a Python program to handle KeyError exception when accessing a dictionary key that does not exist.**"
      ],
      "metadata": {
        "id": "z43Dkrirhc1l"
      }
    },
    {
      "cell_type": "code",
      "source": [
        "try:\n",
        "  data={\"name\":\"Ekta\",\"age\":21}\n",
        "  print(data[\"city\"])\n",
        "except KeyError:\n",
        "  print(\"key not found!\")"
      ],
      "metadata": {
        "colab": {
          "base_uri": "https://localhost:8080/"
        },
        "id": "R3xBhLfYhtm0",
        "outputId": "809c586d-512e-4c7b-e06e-4c6ec93ea6ce"
      },
      "execution_count": null,
      "outputs": [
        {
          "output_type": "stream",
          "name": "stdout",
          "text": [
            "key not found!\n"
          ]
        }
      ]
    },
    {
      "cell_type": "markdown",
      "source": [
        "**Q9. How can you append data to an existing file in Python?**"
      ],
      "metadata": {
        "id": "LiS_WE3liOey"
      }
    },
    {
      "cell_type": "code",
      "source": [
        "with open(\"sample.txt\",\"a\")as f:\n",
        "  f.write(\"\\Welcome to file Handling!\")"
      ],
      "metadata": {
        "colab": {
          "base_uri": "https://localhost:8080/"
        },
        "id": "xV6SwnaaibAf",
        "outputId": "dbfb49a9-3e96-49cb-f56d-197cc088c472"
      },
      "execution_count": null,
      "outputs": [
        {
          "output_type": "stream",
          "name": "stderr",
          "text": [
            "<>:2: SyntaxWarning: invalid escape sequence '\\W'\n",
            "<>:2: SyntaxWarning: invalid escape sequence '\\W'\n",
            "/tmp/ipython-input-4106419324.py:2: SyntaxWarning: invalid escape sequence '\\W'\n",
            "  f.write(\"\\Welcome to file Handling!\")\n"
          ]
        }
      ]
    },
    {
      "cell_type": "markdown",
      "source": [
        "**Q10. Write a Python program that reads data line by line and stores it in list.**"
      ],
      "metadata": {
        "id": "OOG_fFldi3DJ"
      }
    },
    {
      "cell_type": "code",
      "source": [
        "lines=[]\n",
        "with open(\"sample.txt\",\"r\")as f:\n",
        "  for line in f:\n",
        "    lines.append(line.strip())\n",
        "\n",
        "print(lines)"
      ],
      "metadata": {
        "colab": {
          "base_uri": "https://localhost:8080/"
        },
        "id": "3ipRlM0wjDjP",
        "outputId": "4bbc689f-7716-4793-b200-dd726391d74f"
      },
      "execution_count": null,
      "outputs": [
        {
          "output_type": "stream",
          "name": "stdout",
          "text": [
            "['Hello Python!\\\\Welcome to file Handling!']\n"
          ]
        }
      ]
    },
    {
      "cell_type": "markdown",
      "source": [
        "**Q11. Write a Python program using multiple except blocks to handle different types of exceptions.**"
      ],
      "metadata": {
        "id": "zYYtdsoRjdo5"
      }
    },
    {
      "cell_type": "code",
      "source": [
        "try:\n",
        "  num=int(input(\"Enter number:\"))\n",
        "  print(10/num)\n",
        "except ValueError:\n",
        "  print(\"Please enter a valid number!\")\n",
        "except ZeroDivisionError:\n",
        "  print(\"Cannot divide by zero!\")"
      ],
      "metadata": {
        "colab": {
          "base_uri": "https://localhost:8080/"
        },
        "id": "0xD5jPdejrqK",
        "outputId": "bfc42c99-623c-46c6-ff71-630f1825e82a"
      },
      "execution_count": null,
      "outputs": [
        {
          "output_type": "stream",
          "name": "stdout",
          "text": [
            "Enter number:2\n",
            "5.0\n"
          ]
        }
      ]
    },
    {
      "cell_type": "markdown",
      "source": [
        "**Q12. Write a Python program that checks if a file exists before reading it.**"
      ],
      "metadata": {
        "id": "VtMVf7I5kTOu"
      }
    },
    {
      "cell_type": "code",
      "source": [
        "import os\n",
        "\n",
        "filename=\"data.txt\"\n",
        "if os.path.exists(filename):\n",
        "  with open(filename)as f:\n",
        "    print(f.read())\n",
        "else:\n",
        "  print(\"File does not exist!\")"
      ],
      "metadata": {
        "colab": {
          "base_uri": "https://localhost:8080/"
        },
        "id": "2PQJY11ckgUk",
        "outputId": "637dd4c4-30c2-4391-d079-a868ee7032ba"
      },
      "execution_count": null,
      "outputs": [
        {
          "output_type": "stream",
          "name": "stdout",
          "text": [
            "File does not exist!\n"
          ]
        }
      ]
    },
    {
      "cell_type": "markdown",
      "source": [
        "**Q13. Write a Python program to demonstrate logging of warning and error message.**"
      ],
      "metadata": {
        "id": "C83lDF29lDC2"
      }
    },
    {
      "cell_type": "markdown",
      "source": [
        "**Q14. Write a program to handle a ValueError when converting a string into integer.**"
      ],
      "metadata": {
        "id": "sMbYUqoztozF"
      }
    },
    {
      "cell_type": "code",
      "source": [
        "try:\n",
        "  num=int(\"abc\")\n",
        "except ValueError:\n",
        "  print(\"Invalid integer value!\")"
      ],
      "metadata": {
        "colab": {
          "base_uri": "https://localhost:8080/"
        },
        "id": "OPC2DwvSuOZ1",
        "outputId": "58b9c667-857d-4101-965e-624db4df5d37"
      },
      "execution_count": null,
      "outputs": [
        {
          "output_type": "stream",
          "name": "stdout",
          "text": [
            "Invalid integer value!\n"
          ]
        }
      ]
    },
    {
      "cell_type": "markdown",
      "source": [
        "**Q15. Write a Python program that uses finally block to close a file even if an error occurs.**"
      ],
      "metadata": {
        "id": "IsILoudjupDt"
      }
    },
    {
      "cell_type": "code",
      "source": [
        "try:\n",
        "  f=open(\"data.txtx\",\"r\")\n",
        "  content=f.read()\n",
        "except FileNotFoundError:\n",
        "  print(\"File not found!\")\n",
        "finally:\n",
        "  f.close()\n",
        "  print(\"File closed.\")"
      ],
      "metadata": {
        "colab": {
          "base_uri": "https://localhost:8080/"
        },
        "id": "sKLwclMsvYMP",
        "outputId": "977ee1f1-3033-4adf-f1a4-5aab9ff50736"
      },
      "execution_count": null,
      "outputs": [
        {
          "output_type": "stream",
          "name": "stdout",
          "text": [
            "File not found!\n",
            "File closed.\n"
          ]
        }
      ]
    },
    {
      "cell_type": "markdown",
      "source": [
        "**Q16.Write a Python program to handle multiple exceptions in a single block.**"
      ],
      "metadata": {
        "id": "tUGq5SujwGBb"
      }
    },
    {
      "cell_type": "code",
      "source": [
        "# Python program to handle multiple exceptions in a single block\n",
        "\n",
        "def process_input():\n",
        "    try:\n",
        "        num = int(input(\"Enter a number: \"))\n",
        "        result = 10 / num\n",
        "        print(\"Result is:\", result)\n",
        "    except (ValueError, ZeroDivisionError) as e:\n",
        "        print(f\"An error occurred: {e}\")\n",
        "    except Exception as e:\n",
        "        print(f\"Unexpected error: {e}\")\n",
        "\n",
        "process_input()\n"
      ],
      "metadata": {
        "colab": {
          "base_uri": "https://localhost:8080/"
        },
        "id": "_flGynlrENZo",
        "outputId": "882d5b5b-555d-4974-ec0a-47dc98e6f5c6"
      },
      "execution_count": null,
      "outputs": [
        {
          "output_type": "stream",
          "name": "stdout",
          "text": [
            "Enter a number: 10\n",
            "Result is: 1.0\n"
          ]
        }
      ]
    },
    {
      "cell_type": "markdown",
      "source": [
        "**Q17. Write a Python program that triggers an error message if the files is empty.**"
      ],
      "metadata": {
        "id": "pKqSXB165AKY"
      }
    },
    {
      "cell_type": "code",
      "source": [
        "# Python program to trigger an error if the file is empty\n",
        "\n",
        "def check_file_not_empty(filename):\n",
        "    try:\n",
        "        with open(filename, 'r') as file:\n",
        "            content = file.read()\n",
        "            if not content.strip():  # Checks if file is empty or only whitespace\n",
        "                raise ValueError(\"Error: The file is empty.\")\n",
        "            else:\n",
        "                print(\"File content:\")\n",
        "                print(content)\n",
        "    except FileNotFoundError:\n",
        "        print(\"Error: File not found.\")\n",
        "    except ValueError as ve:\n",
        "        print(ve)\n",
        "    except Exception as e:\n",
        "        print(f\"Unexpected error: {e}\")\n",
        "\n",
        "# Replace 'sample.txt' with your file name\n",
        "check_file_not_empty('sample.txt')\n"
      ],
      "metadata": {
        "colab": {
          "base_uri": "https://localhost:8080/"
        },
        "id": "NydRLzfODpfx",
        "outputId": "a134cfbc-d8e5-4e30-9bd5-e892155e5c84"
      },
      "execution_count": null,
      "outputs": [
        {
          "output_type": "stream",
          "name": "stdout",
          "text": [
            "File content:\n",
            "Hello Python!\\Welcome to file Handling!\n"
          ]
        }
      ]
    },
    {
      "cell_type": "markdown",
      "source": [
        "**Q18.How would you check for memory usage of Python objects?**"
      ],
      "metadata": {
        "id": "AywX6Ih-6cdM"
      }
    },
    {
      "cell_type": "code",
      "source": [
        "import sys\n",
        "x=[1,2,3,4]\n",
        "print(sys.getsizeof(x))"
      ],
      "metadata": {
        "colab": {
          "base_uri": "https://localhost:8080/"
        },
        "id": "TJqu0YK26m_D",
        "outputId": "f2327b26-32f3-4ea5-fcf1-0c1ccc7e5249"
      },
      "execution_count": null,
      "outputs": [
        {
          "output_type": "stream",
          "name": "stdout",
          "text": [
            "88\n"
          ]
        }
      ]
    },
    {
      "cell_type": "markdown",
      "source": [
        "**Q19.Write a Python program that demonstrates garbage collection.**"
      ],
      "metadata": {
        "id": "HqdjAKut61Lc"
      }
    },
    {
      "cell_type": "code",
      "source": [
        "import gc\n",
        "\n",
        "x=[1,2,3]\n",
        "del x\n",
        "gc.collect()\n",
        "print(\"Garbage collected!\")"
      ],
      "metadata": {
        "colab": {
          "base_uri": "https://localhost:8080/"
        },
        "id": "eGfib92Z6_i8",
        "outputId": "9439e953-90b5-4e62-c70e-a0d00ea568d8"
      },
      "execution_count": null,
      "outputs": [
        {
          "output_type": "stream",
          "name": "stdout",
          "text": [
            "Garbage collected!\n"
          ]
        }
      ]
    },
    {
      "cell_type": "markdown",
      "source": [
        "**Q20.Write a Python program to demonstrate creation and deletion of an object.**"
      ],
      "metadata": {
        "id": "YHM1qHTn7TwK"
      }
    },
    {
      "cell_type": "code",
      "source": [
        "# Python program to demonstrate creation and deletion of an object\n",
        "\n",
        "class Person:\n",
        "    def __init__(self, name):\n",
        "        self.name = name\n",
        "        print(f\"Person object created for {self.name}\")\n",
        "\n",
        "    def greet(self):\n",
        "        print(f\"Hello, my name is {self.name}\")\n",
        "\n",
        "    def __del__(self):\n",
        "        print(f\"Person object for {self.name} is being deleted\")\n",
        "\n",
        "# Object creation\n",
        "p1 = Person(\"Amit\")\n",
        "p1.greet()\n",
        "\n",
        "# Object deletion\n",
        "del p1\n",
        "\n",
        "# Optional: force garbage collection (not usually needed)\n",
        "import gc\n",
        "gc.collect()\n"
      ],
      "metadata": {
        "colab": {
          "base_uri": "https://localhost:8080/"
        },
        "id": "m0CuFlL_DIBA",
        "outputId": "e4ad2803-978c-4a6f-bf6a-7e3afa79e314"
      },
      "execution_count": null,
      "outputs": [
        {
          "output_type": "stream",
          "name": "stdout",
          "text": [
            "Person object created for Amit\n",
            "Hello, my name is Amit\n",
            "Person object for Amit is being deleted\n"
          ]
        },
        {
          "output_type": "execute_result",
          "data": {
            "text/plain": [
              "399"
            ]
          },
          "metadata": {},
          "execution_count": 43
        }
      ]
    },
    {
      "cell_type": "markdown",
      "source": [
        "**Q21.Write a Python program to demonstrate exception chaining.**"
      ],
      "metadata": {
        "id": "s3K_4XMy85C3"
      }
    },
    {
      "cell_type": "code",
      "source": [
        "# Python program to demonstrate exception chaining\n",
        "\n",
        "def divide_numbers(a, b):\n",
        "    try:\n",
        "        result = a / b\n",
        "        return result\n",
        "    except ZeroDivisionError as e:\n",
        "        # Raise a new exception and chain it with the original\n",
        "        raise ValueError(\"Invalid operation: division by zero\") from e\n",
        "\n",
        "def main():\n",
        "    try:\n",
        "        x = int(input(\"Enter numerator: \"))\n",
        "        y = int(input(\"Enter denominator: \"))\n",
        "        print(\"Result:\", divide_numbers(x, y))\n",
        "    except ValueError as ve:\n",
        "        print(\"Caught ValueError:\", ve)\n",
        "        print(\"Original exception:\", ve.__cause__)\n",
        "\n",
        "if __name__ == \"__main__\":\n",
        "    main()\n"
      ],
      "metadata": {
        "colab": {
          "base_uri": "https://localhost:8080/"
        },
        "id": "C9wIFb_ECzEM",
        "outputId": "9ff5b3a4-ffc8-4fb9-f831-80fdfe2d23ed"
      },
      "execution_count": null,
      "outputs": [
        {
          "output_type": "stream",
          "name": "stdout",
          "text": [
            "Enter numerator: 40\n",
            "Enter denominator: 23\n",
            "Result: 1.7391304347826086\n"
          ]
        }
      ]
    },
    {
      "cell_type": "markdown",
      "source": [
        "**Q22. Write a Python program that creates and writes to a log file when an error occurs during file reading.**"
      ],
      "metadata": {
        "id": "-hrfqIHc-Wny"
      }
    },
    {
      "cell_type": "code",
      "source": [
        "import logging\n",
        "logging.basicConfig(filename=\"error_log.txt\",level=logging.ERROR)\n",
        "\n",
        "try:\n",
        "  with open(\"missing.txt\")as f:\n",
        "    print(f.read())\n",
        "except FileNotFoundError:\n",
        "  logging.error(\"File not found while reading.\")"
      ],
      "metadata": {
        "colab": {
          "base_uri": "https://localhost:8080/"
        },
        "id": "TaM6ZaOv-rps",
        "outputId": "aa0babdf-6749-4292-9603-bae74bc1dc76"
      },
      "execution_count": null,
      "outputs": [
        {
          "output_type": "stream",
          "name": "stderr",
          "text": [
            "ERROR:root:File not found while reading.\n"
          ]
        }
      ]
    },
    {
      "cell_type": "markdown",
      "source": [
        "**Q23. Write a Python program to copy the contents of one text file to another using the with statement.**"
      ],
      "metadata": {
        "id": "nAPy1q02_iuy"
      }
    },
    {
      "cell_type": "code",
      "source": [
        "# Python program to copy contents of one file to another\n",
        "\n",
        "# Source and destination file names\n",
        "source_file = 'source.txt'\n",
        "destination_file = 'destination.txt'\n",
        "\n",
        "try:\n",
        "    # Using 'with' statement to handle files safely\n",
        "    with open(source_file, 'r') as src:\n",
        "        content = src.read()  # Read entire content\n",
        "\n",
        "    with open(destination_file, 'w') as dest:\n",
        "        dest.write(content)  # Write content to destination\n",
        "\n",
        "    print(\"File copied successfully.\")\n",
        "\n",
        "except FileNotFoundError:\n",
        "    print(\"Error: Source file not found.\")\n",
        "except IOError as e:\n",
        "    print(f\"I/O error occurred: {e}\")\n"
      ],
      "metadata": {
        "colab": {
          "base_uri": "https://localhost:8080/"
        },
        "id": "Mfnc2R6_CtCk",
        "outputId": "90b11cb5-869a-4873-bd02-997be509619c"
      },
      "execution_count": null,
      "outputs": [
        {
          "output_type": "stream",
          "name": "stdout",
          "text": [
            "Error: Source file not found.\n"
          ]
        }
      ]
    }
  ]
}